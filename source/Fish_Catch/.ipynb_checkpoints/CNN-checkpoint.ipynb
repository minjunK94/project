{
 "cells": [
  {
   "cell_type": "code",
   "execution_count": 4,
   "id": "3bfa16e1-21d4-4ec3-8e8b-f1f00e1b772c",
   "metadata": {},
   "outputs": [],
   "source": [
    "# import 목록\n",
    "# 데이터 처리 관련 import\n",
    "import os # 파일 경로 관리\n",
    "import numpy as np # 이미지 데이터를 배열 형태로 처리\n",
    "import matplotlib.pyplot as plt # 시각화\n",
    "from tensorflow.keras.preprocessing.image import ImageDataGenerator # 데이터 증강과 배치 생성\n",
    "from tensorflow.keras.utils import to_categorical, load_img, img_to_array # 이미지를 배열로 변환\n",
    "\n",
    "# 모델 설계 및 학습\n",
    "from tensorflow.keras.models import Sequential # 레이어를 순차적으로 추가 \n",
    "from tensorflow.keras.layers import Conv2D, MaxPooling2D, Flatten, Dense, Dropout\n",
    "from tensorflow.keras.optimizers import Adam # 학습 최적화 알고리즘\n",
    "from tensorflow.keras.callbacks import EarlyStopping, ModelCheckpoint # 학습 조기 종료 및 최적 가중치 저장\n",
    "\n",
    "# 데이터 로드 및 분할\n",
    "from sklearn.model_selection import train_test_split #  데이터셋을 훈련 및 검증 세트로 분리\n",
    "\n",
    "# 성능 평가\n",
    "from sklearn.metrics import classification_report, confusion_matrix # 정밀도, 재현율, F1 점수 등 성능 메트릭 제공 / 혼동 행렬 생성\n",
    "\n",
    "# TensorFlow "
   ]
  },
  {
   "cell_type": "code",
   "execution_count": null,
   "id": "6151d4d5-ff14-4d35-940f-829c6d613262",
   "metadata": {},
   "outputs": [],
   "source": []
  },
  {
   "cell_type": "code",
   "execution_count": null,
   "id": "6ef5afcb-141a-4703-b286-75172f177f09",
   "metadata": {},
   "outputs": [],
   "source": []
  }
 ],
 "metadata": {
  "kernelspec": {
   "display_name": "Python 3 (ipykernel)",
   "language": "python",
   "name": "python3"
  },
  "language_info": {
   "codemirror_mode": {
    "name": "ipython",
    "version": 3
   },
   "file_extension": ".py",
   "mimetype": "text/x-python",
   "name": "python",
   "nbconvert_exporter": "python",
   "pygments_lexer": "ipython3",
   "version": "3.12.3"
  }
 },
 "nbformat": 4,
 "nbformat_minor": 5
}
